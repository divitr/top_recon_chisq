{
 "cells": [
  {
   "cell_type": "code",
   "execution_count": 5,
   "metadata": {},
   "outputs": [
    {
     "name": "stdout",
     "output_type": "stream",
     "text": [
      "['/Users/divitrawal/UCI_Internship/Heavy_Particle_Reconstruction', '/Users/divitrawal/opt/anaconda3/lib/python39.zip', '/Users/divitrawal/opt/anaconda3/lib/python3.9', '/Users/divitrawal/opt/anaconda3/lib/python3.9/lib-dynload', '', '/Users/divitrawal/opt/anaconda3/lib/python3.9/site-packages', '/Users/divitrawal/opt/anaconda3/lib/python3.9/site-packages/aeosa', 'Users/divitrawal/root_17_427/root_build/lib/', 'Users/divitrawal/root_17_427/root_build/', 'Users/divitrawal/root_17_427/root_build/include/', 'Users/divitrawal/root_17_427/root_build/bin/', 'Users/divitrawal/root_17_427/root_build/lib/', 'Users/divitrawal/root_17_427/root_build/', 'Users/divitrawal/root_17_427/root_build/include/', 'Users/divitrawal/root_17_427/root_build/bin/', 'Users/divitrawal/root/root_build/lib/', 'Users/divitrawal/root/root_build/', 'Users/divitrawal/root/root_build/include/', 'Users/divitrawal/root/root_build/bin/', 'Users/divitrawal/root/lib/', 'Users/divitrawal/root/', 'Users/divitrawal/root/include/', 'Users/divitrawal/root/bin/', '/Users/divitrawal/root/lib/', '/Users/divitrawal/root/', '/Users/divitrawal/root/include/', '/Users/divitrawal/root/bin/']\n"
     ]
    },
    {
     "data": {
      "text/plain": [
       "<CDLL '/Users/divitrawal/root/lib/libTreePlayer.so', handle 7ff91d166700 at 0x7fd997cee8b0>"
      ]
     },
     "execution_count": 5,
     "metadata": {},
     "output_type": "execute_result"
    }
   ],
   "source": [
    "import sys\n",
    "sys.path.append(\"/Users/divitrawal/root/lib/\")\n",
    "sys.path.append(\"/Users/divitrawal/root/\")\n",
    "sys.path.append(\"/Users/divitrawal/root/include/\")\n",
    "sys.path.append(\"/Users/divitrawal/root/bin/\")\n",
    "print(sys.path)\n",
    "\n",
    "import ctypes\n",
    "ctypes.cdll.LoadLibrary('/Users/divitrawal/root/lib/libCore.so')\n",
    "ctypes.cdll.LoadLibrary('/Users/divitrawal/root/lib/libThread.so')\n",
    "ctypes.cdll.LoadLibrary('/Users/divitrawal/root/lib/libTreePlayer.so')"
   ]
  },
  {
   "cell_type": "code",
   "execution_count": 13,
   "metadata": {},
   "outputs": [
    {
     "name": "stdout",
     "output_type": "stream",
     "text": [
      "env: python3.8: No such file or directory\n"
     ]
    },
    {
     "ename": "ImportError",
     "evalue": "Failed to import libcppyy3_9. Please check that ROOT has been built for Python 3.9",
     "output_type": "error",
     "traceback": [
      "\u001b[0;31m---------------------------------------------------------------------------\u001b[0m",
      "\u001b[0;31mModuleNotFoundError\u001b[0m                       Traceback (most recent call last)",
      "File \u001b[0;32m~/root/lib/cppyy/__init__.py:60\u001b[0m, in \u001b[0;36m<module>\u001b[0;34m\u001b[0m\n\u001b[1;32m     59\u001b[0m \u001b[39mtry\u001b[39;00m:\n\u001b[0;32m---> 60\u001b[0m     importlib\u001b[39m.\u001b[39;49mimport_module(libcppyy_mod_name)\n\u001b[1;32m     61\u001b[0m \u001b[39mexcept\u001b[39;00m \u001b[39mImportError\u001b[39;00m:\n",
      "File \u001b[0;32m~/opt/anaconda3/lib/python3.9/importlib/__init__.py:127\u001b[0m, in \u001b[0;36mimport_module\u001b[0;34m(name, package)\u001b[0m\n\u001b[1;32m    126\u001b[0m         level \u001b[39m+\u001b[39m\u001b[39m=\u001b[39m \u001b[39m1\u001b[39m\n\u001b[0;32m--> 127\u001b[0m \u001b[39mreturn\u001b[39;00m _bootstrap\u001b[39m.\u001b[39;49m_gcd_import(name[level:], package, level)\n",
      "File \u001b[0;32m<frozen importlib._bootstrap>:1030\u001b[0m, in \u001b[0;36m_gcd_import\u001b[0;34m(name, package, level)\u001b[0m\n",
      "File \u001b[0;32m<frozen importlib._bootstrap>:1007\u001b[0m, in \u001b[0;36m_find_and_load\u001b[0;34m(name, import_)\u001b[0m\n",
      "File \u001b[0;32m<frozen importlib._bootstrap>:984\u001b[0m, in \u001b[0;36m_find_and_load_unlocked\u001b[0;34m(name, import_)\u001b[0m\n",
      "\u001b[0;31mModuleNotFoundError\u001b[0m: No module named 'libcppyy3_9'",
      "\nDuring handling of the above exception, another exception occurred:\n",
      "\u001b[0;31mImportError\u001b[0m                               Traceback (most recent call last)",
      "\u001b[1;32m/Users/divitrawal/UCI_Internship/Heavy_Particle_Reconstruction/top_recon.ipynb Cell 2\u001b[0m in \u001b[0;36m<cell line: 3>\u001b[0;34m()\u001b[0m\n\u001b[1;32m      <a href='vscode-notebook-cell:/Users/divitrawal/UCI_Internship/Heavy_Particle_Reconstruction/top_recon.ipynb#W1sZmlsZQ%3D%3D?line=0'>1</a>\u001b[0m get_ipython()\u001b[39m.\u001b[39msystem(\u001b[39m'\u001b[39m\u001b[39m/usr/bin/env python3.8\u001b[39m\u001b[39m'\u001b[39m)\n\u001b[0;32m----> <a href='vscode-notebook-cell:/Users/divitrawal/UCI_Internship/Heavy_Particle_Reconstruction/top_recon.ipynb#W1sZmlsZQ%3D%3D?line=2'>3</a>\u001b[0m \u001b[39mimport\u001b[39;00m \u001b[39mROOT\u001b[39;00m\n\u001b[1;32m      <a href='vscode-notebook-cell:/Users/divitrawal/UCI_Internship/Heavy_Particle_Reconstruction/top_recon.ipynb#W1sZmlsZQ%3D%3D?line=4'>5</a>\u001b[0m x \u001b[39m=\u001b[39m ROOT\u001b[39m.\u001b[39mTLorentzVector(\u001b[39m0\u001b[39m,\u001b[39m0\u001b[39m,\u001b[39m0\u001b[39m,\u001b[39m0\u001b[39m)\n\u001b[1;32m      <a href='vscode-notebook-cell:/Users/divitrawal/UCI_Internship/Heavy_Particle_Reconstruction/top_recon.ipynb#W1sZmlsZQ%3D%3D?line=5'>6</a>\u001b[0m \u001b[39mprint\u001b[39m(x)\n",
      "File \u001b[0;32m~/root/lib/ROOT/__init__.py:22\u001b[0m, in \u001b[0;36m<module>\u001b[0;34m\u001b[0m\n\u001b[1;32m     19\u001b[0m \u001b[39m# Prevent cppyy from filtering ROOT libraries\u001b[39;00m\n\u001b[1;32m     20\u001b[0m environ[\u001b[39m'\u001b[39m\u001b[39mCPPYY_NO_ROOT_FILTER\u001b[39m\u001b[39m'\u001b[39m] \u001b[39m=\u001b[39m \u001b[39m'\u001b[39m\u001b[39m1\u001b[39m\u001b[39m'\u001b[39m\n\u001b[0;32m---> 22\u001b[0m \u001b[39mimport\u001b[39;00m \u001b[39mcppyy\u001b[39;00m\n\u001b[1;32m     23\u001b[0m \u001b[39mif\u001b[39;00m \u001b[39mnot\u001b[39;00m \u001b[39m'\u001b[39m\u001b[39mROOTSYS\u001b[39m\u001b[39m'\u001b[39m \u001b[39min\u001b[39;00m environ:\n\u001b[1;32m     24\u001b[0m     \u001b[39m# Revert setting made by cppyy\u001b[39;00m\n\u001b[1;32m     25\u001b[0m     cppyy\u001b[39m.\u001b[39mgbl\u001b[39m.\u001b[39mgROOT\u001b[39m.\u001b[39mSetBatch(\u001b[39mFalse\u001b[39;00m)\n",
      "File \u001b[0;32m~/root/lib/cppyy/__init__.py:62\u001b[0m, in \u001b[0;36m<module>\u001b[0;34m\u001b[0m\n\u001b[1;32m     60\u001b[0m     importlib\u001b[39m.\u001b[39mimport_module(libcppyy_mod_name)\n\u001b[1;32m     61\u001b[0m \u001b[39mexcept\u001b[39;00m \u001b[39mImportError\u001b[39;00m:\n\u001b[0;32m---> 62\u001b[0m     \u001b[39mraise\u001b[39;00m \u001b[39mImportError\u001b[39;00m(\n\u001b[1;32m     63\u001b[0m             \u001b[39m'\u001b[39m\u001b[39mFailed to import \u001b[39m\u001b[39m{}\u001b[39;00m\u001b[39m. Please check that ROOT has been built for Python \u001b[39m\u001b[39m{}\u001b[39;00m\u001b[39m.\u001b[39m\u001b[39m{}\u001b[39;00m\u001b[39m'\u001b[39m\u001b[39m.\u001b[39mformat(\n\u001b[1;32m     64\u001b[0m                 libcppyy_mod_name, major, minor))\n\u001b[1;32m     66\u001b[0m \u001b[39m# ensure 'import libcppyy' will find the versioned module\u001b[39;00m\n\u001b[1;32m     67\u001b[0m sys\u001b[39m.\u001b[39mmodules[\u001b[39m'\u001b[39m\u001b[39mlibcppyy\u001b[39m\u001b[39m'\u001b[39m] \u001b[39m=\u001b[39m sys\u001b[39m.\u001b[39mmodules[libcppyy_mod_name]\n",
      "\u001b[0;31mImportError\u001b[0m: Failed to import libcppyy3_9. Please check that ROOT has been built for Python 3.9"
     ]
    }
   ],
   "source": [
    "!/usr/bin/env python3.8\n",
    "\n",
    "import ROOT\n",
    "\n",
    "x = ROOT.TLorentzVector(0,0,0,0)\n",
    "print(x)"
   ]
  }
 ],
 "metadata": {
  "kernelspec": {
   "display_name": "base",
   "language": "python",
   "name": "python3"
  },
  "language_info": {
   "codemirror_mode": {
    "name": "ipython",
    "version": 3
   },
   "file_extension": ".py",
   "mimetype": "text/x-python",
   "name": "python",
   "nbconvert_exporter": "python",
   "pygments_lexer": "ipython3",
   "version": "3.9.12"
  },
  "orig_nbformat": 4,
  "vscode": {
   "interpreter": {
    "hash": "fa093487177e325f19ef0eee5ad22ca4d7ead246d68b402417b6800c4cee507e"
   }
  }
 },
 "nbformat": 4,
 "nbformat_minor": 2
}
